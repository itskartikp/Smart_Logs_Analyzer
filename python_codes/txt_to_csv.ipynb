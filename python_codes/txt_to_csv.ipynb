{
 "cells": [
  {
   "cell_type": "code",
   "execution_count": 2,
   "id": "2a1abf88",
   "metadata": {},
   "outputs": [
    {
     "name": "stdout",
     "output_type": "stream",
     "text": [
      "CSV file saved to /Users/kartik/Desktop/teleport/text_logs/cidnercinderlogfile.csv\n"
     ]
    }
   ],
   "source": [
    "import pandas as pd\n",
    "import re\n",
    "\n",
    "# Define the regular expression pattern to extract information from each log entry\n",
    "log_pattern = re.compile(r'(?P<date>\\d{4}-\\d{2}-\\d{2}) (?P<timestamp>\\d{2}:\\d{2}:\\d{2}\\.\\d{3}) (?P<process_id>\\d+) (?P<type>[A-Z]+) (?P<component>[^\\s]+) \\[.*\\] (?P<message>.+)')\n",
    "\n",
    "# Define the path to your log file\n",
    "log_file_path = '/Users/kartik/Desktop/teleport/text_logs/cinder-cinder.txt'\n",
    "\n",
    "# Create an empty list to store log entries\n",
    "logs = []\n",
    "\n",
    "# Read the log file and extract information using the defined pattern\n",
    "with open(log_file_path, 'r') as file:\n",
    "    for line in file:\n",
    "        match = log_pattern.match(line)\n",
    "        if match:\n",
    "            logs.append(match.groupdict())\n",
    "\n",
    "# Create a DataFrame from the list of log entries\n",
    "df = pd.DataFrame(logs)\n",
    "\n",
    "# Save the DataFrame to a CSV file\n",
    "csv_file_path = '/Users/kartik/Desktop/teleport/text_logs/cidnercinderlogfile.csv'\n",
    "df.to_csv(csv_file_path, index=False)\n",
    "\n",
    "print(f'CSV file saved to {csv_file_path}')\n"
   ]
  },
  {
   "cell_type": "code",
   "execution_count": null,
   "id": "5d1f55e4",
   "metadata": {},
   "outputs": [],
   "source": []
  }
 ],
 "metadata": {
  "kernelspec": {
   "display_name": "Python 3 (ipykernel)",
   "language": "python",
   "name": "python3"
  },
  "language_info": {
   "codemirror_mode": {
    "name": "ipython",
    "version": 3
   },
   "file_extension": ".py",
   "mimetype": "text/x-python",
   "name": "python",
   "nbconvert_exporter": "python",
   "pygments_lexer": "ipython3",
   "version": "3.10.9"
  }
 },
 "nbformat": 4,
 "nbformat_minor": 5
}
